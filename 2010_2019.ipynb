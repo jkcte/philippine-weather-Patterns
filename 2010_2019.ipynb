{
 "cells": [
  {
   "cell_type": "code",
   "execution_count": 4,
   "metadata": {},
   "outputs": [],
   "source": [
    "import pandas as pd\n",
    "\n",
    "weatherHourly = pd.read_csv('2010-2019/hourly_data_combined_2010_to_2019.csv')\n",
    "dailyDatacombined = pd.read_csv('2010-2019/daily_data_combined_2010_to_2019.csv')\n"
   ]
  },
  {
   "cell_type": "code",
   "execution_count": null,
   "metadata": {},
   "outputs": [
    {
     "data": {
      "text/plain": [
       "Index(['city_name', 'latitude', 'longitude', 'datetime', 'weather_code',\n",
       "       'temperature_2m_max', 'temperature_2m_min', 'temperature_2m_mean',\n",
       "       'apparent_temperature_max', 'apparent_temperature_min',\n",
       "       'apparent_temperature_mean', 'sunrise', 'sunset', 'daylight_duration',\n",
       "       'sunshine_duration', 'precipitation_sum', 'rain_sum', 'snowfall_sum',\n",
       "       'precipitation_hours', 'wind_speed_10m_max', 'wind_gusts_10m_max',\n",
       "       'wind_direction_10m_dominant', 'shortwave_radiation_sum',\n",
       "       'et0_fao_evapotranspiration'],\n",
       "      dtype='object')"
      ]
     },
     "execution_count": 6,
     "metadata": {},
     "output_type": "execute_result"
    }
   ],
   "source": [
    "print(weatherHourly.columns)\n",
    "print(dailyDatacombined.columns)"
   ]
  }
 ],
 "metadata": {
  "kernelspec": {
   "display_name": ".env",
   "language": "python",
   "name": "python3"
  },
  "language_info": {
   "codemirror_mode": {
    "name": "ipython",
    "version": 3
   },
   "file_extension": ".py",
   "mimetype": "text/x-python",
   "name": "python",
   "nbconvert_exporter": "python",
   "pygments_lexer": "ipython3",
   "version": "3.12.4"
  }
 },
 "nbformat": 4,
 "nbformat_minor": 2
}
